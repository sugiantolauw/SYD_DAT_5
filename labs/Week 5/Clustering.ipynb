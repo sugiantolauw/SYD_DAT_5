{
 "cells": [
  {
   "cell_type": "code",
   "execution_count": 1,
   "metadata": {
    "collapsed": true
   },
   "outputs": [],
   "source": [
    "import pandas as pd\n",
    "import numpy as np\n",
    "import matplotlib.pyplot as plt\n",
    "%matplotlib inline\n",
    "trains = pd.read_csv('C:\\\\Users\\\\richter Belmont\\\\Project-Zero\\\\SYD_DAT_5\\\\data\\\\sydtrains.csv', index_col=1, thousands=',')"
   ]
  },
  {
   "cell_type": "code",
   "execution_count": 22,
   "metadata": {
    "collapsed": true
   },
   "outputs": [],
   "source": [
    "trains2014 = trains[trains.YEAR == 2014].copy()"
   ]
  },
  {
   "cell_type": "code",
   "execution_count": 3,
   "metadata": {
    "collapsed": true
   },
   "outputs": [],
   "source": [
    "interesting_columns = trains2014[['IN_0600_0930', 'OUT_0600_0930']]"
   ]
  },
  {
   "cell_type": "code",
   "execution_count": 4,
   "metadata": {
    "collapsed": false
   },
   "outputs": [
    {
     "data": {
      "text/plain": [
       "<matplotlib.collections.PathCollection at 0x9b56eb8>"
      ]
     },
     "execution_count": 4,
     "metadata": {},
     "output_type": "execute_result"
    },
    {
     "data": {
      "image/png": "[encoded data removed]",
      "text/plain": [
       "<matplotlib.figure.Figure at 0x955f588>"
      ]
     },
     "metadata": {},
     "output_type": "display_data"
    }
   ],
   "source": [
    "plt.scatter(interesting_columns.IN_0600_0930, interesting_columns.OUT_0600_0930)"
   ]
  },
  {
   "cell_type": "code",
   "execution_count": 5,
   "metadata": {
    "collapsed": false
   },
   "outputs": [
    {
     "data": {
      "text/html": [
       "<div>\n",
       "<table border=\"1\" class=\"dataframe\">\n",
       "  <thead>\n",
       "    <tr style=\"text-align: right;\">\n",
       "      <th></th>\n",
       "      <th>IN_0600_0930</th>\n",
       "      <th>OUT_0600_0930</th>\n",
       "    </tr>\n",
       "    <tr>\n",
       "      <th>STATION</th>\n",
       "      <th></th>\n",
       "      <th></th>\n",
       "    </tr>\n",
       "  </thead>\n",
       "  <tbody>\n",
       "    <tr>\n",
       "      <th>Central</th>\n",
       "      <td>10390</td>\n",
       "      <td>42070</td>\n",
       "    </tr>\n",
       "    <tr>\n",
       "      <th>Bondi Junction</th>\n",
       "      <td>10150</td>\n",
       "      <td>4350</td>\n",
       "    </tr>\n",
       "  </tbody>\n",
       "</table>\n",
       "</div>"
      ],
      "text/plain": [
       "                IN_0600_0930  OUT_0600_0930\n",
       "STATION                                    \n",
       "Central                10390          42070\n",
       "Bondi Junction         10150           4350"
      ]
     },
     "execution_count": 5,
     "metadata": {},
     "output_type": "execute_result"
    }
   ],
   "source": [
    "interesting_columns[interesting_columns.IN_0600_0930 > 9000]"
   ]
  },
  {
   "cell_type": "code",
   "execution_count": 6,
   "metadata": {
    "collapsed": true
   },
   "outputs": [],
   "source": [
    "import sklearn.cluster"
   ]
  },
  {
   "cell_type": "code",
   "execution_count": 11,
   "metadata": {
    "collapsed": true
   },
   "outputs": [],
   "source": [
    "kmeans_clusterer = sklearn.cluster.KMeans(init='k-means++', n_clusters=2)"
   ]
  },
  {
   "cell_type": "code",
   "execution_count": 13,
   "metadata": {
    "collapsed": false
   },
   "outputs": [],
   "source": [
    "two_clustering = kmeans_clusterer.fit_predict(interesting_columns)"
   ]
  },
  {
   "cell_type": "code",
   "execution_count": 14,
   "metadata": {
    "collapsed": true
   },
   "outputs": [],
   "source": [
    "rainbow = np.array(['red','green','blue','orange','purple','teal','magenta','cyan'])"
   ]
  },
  {
   "cell_type": "code",
   "execution_count": 17,
   "metadata": {
    "collapsed": false
   },
   "outputs": [
    {
     "data": {
      "text/plain": [
       "<matplotlib.collections.PathCollection at 0xbb256d8>"
      ]
     },
     "execution_count": 17,
     "metadata": {},
     "output_type": "execute_result"
    },
    {
     "data": {
      "image/png": "[encoded data removed]",
      "text/plain": [
       "<matplotlib.figure.Figure at 0xb914898>"
      ]
     },
     "metadata": {},
     "output_type": "display_data"
    }
   ],
   "source": [
    "plt.scatter(interesting_columns.IN_0600_0930, interesting_columns.OUT_0600_0930,\n",
    "            color=rainbow[two_clustering])\n",
    "plt.scatter(kmeans_clusterer.cluster_centers_[:,0],\n",
    "           kmeans_clusterer.cluster_centers_[:,1],\n",
    "           marker='+', s=30)"
   ]
  },
  {
   "cell_type": "code",
   "execution_count": 18,
   "metadata": {
    "collapsed": true
   },
   "outputs": [],
   "source": [
    "two_cluster_cluster_centres = kmeans_clusterer.cluster_centers_"
   ]
  },
  {
   "cell_type": "code",
   "execution_count": 19,
   "metadata": {
    "collapsed": false
   },
   "outputs": [
    {
     "data": {
      "text/plain": [
       "array([[  1117.40983607,    732.03278689],\n",
       "       [  7160.        ,  41633.33333333]])"
      ]
     },
     "execution_count": 19,
     "metadata": {},
     "output_type": "execute_result"
    }
   ],
   "source": [
    "two_cluster_cluster_centres"
   ]
  },
  {
   "cell_type": "code",
   "execution_count": 20,
   "metadata": {
    "collapsed": true
   },
   "outputs": [],
   "source": [
    "cluster_centers = {}\n",
    "cluster_membership = {}\n",
    "for cluster_count in range(3,15):\n",
    "    km = sklearn.cluster.KMeans(init='k-means++', n_clusters=cluster_count)\n",
    "    cluster_membership[cluster_count] = km.fit_predict(interesting_columns)\n",
    "    cluster_centers[cluster_count] = km.cluster_centers_"
   ]
  },
  {
   "cell_type": "code",
   "execution_count": 26,
   "metadata": {
    "collapsed": false
   },
   "outputs": [
    {
     "data": {
      "text/plain": [
       "<matplotlib.collections.PathCollection at 0xbf67710>"
      ]
     },
     "execution_count": 26,
     "metadata": {},
     "output_type": "execute_result"
    },
    {
     "data": {
      "image/png": "[encoded data removed]",
      "text/plain": [
       "<matplotlib.figure.Figure at 0xbcec5c0>"
      ]
     },
     "metadata": {},
     "output_type": "display_data"
    }
   ],
   "source": [
    "plt.scatter(interesting_columns.IN_0600_0930, interesting_columns.OUT_0600_0930,\n",
    "            color=rainbow[cluster_membership[5]])"
   ]
  },
  {
   "cell_type": "code",
   "execution_count": 27,
   "metadata": {
    "collapsed": true
   },
   "outputs": [],
   "source": [
    "trains2014['eight_cluster_membership'] = rainbow[cluster_membership[5]]"
   ]
  },
  {
   "cell_type": "code",
   "execution_count": 28,
   "metadata": {
    "collapsed": false
   },
   "outputs": [
    {
     "data": {
      "text/plain": [
       "STATION\n",
       "Central                      green\n",
       "Town Hall                    green\n",
       "Wynyard                      green\n",
       "Parramatta                    blue\n",
       "North Sydney                  blue\n",
       "Redfern                       blue\n",
       "Chatswood                     blue\n",
       "Bondi Junction              orange\n",
       "Strathfield                 orange\n",
       "Circular Quay                 blue\n",
       "Martin Place                  blue\n",
       "Hurstville                  orange\n",
       "St Leonards                   blue\n",
       "Blacktown                   orange\n",
       "Burwood                     orange\n",
       "Kings Cross                 orange\n",
       "Hornsby                     orange\n",
       "Ashfield                    orange\n",
       "Kogarah                     orange\n",
       "Lidcombe                    orange\n",
       "Auburn                      orange\n",
       "Museum                         red\n",
       "Epping                      orange\n",
       "Macquarie University           red\n",
       "St James                       red\n",
       "Rockdale                    orange\n",
       "Cabramatta                     red\n",
       "Bankstown                      red\n",
       "Liverpool                      red\n",
       "Sutherland                  orange\n",
       "                             ...  \n",
       "Menangle Park               purple\n",
       "Port Kembla North           purple\n",
       "Scone                       purple\n",
       "Tarro                       purple\n",
       "Aberdeen                    purple\n",
       "Bombo                       purple\n",
       "Branxton                    purple\n",
       "Burradoo                    purple\n",
       "Coalcliff                   purple\n",
       "Dunmore (Shellharbour)      purple\n",
       "Exeter                      purple\n",
       "Greta                       purple\n",
       "Linden                      purple\n",
       "Marulan                     purple\n",
       "Menangle                    purple\n",
       "Paterson                    purple\n",
       "Scarborough                 purple\n",
       "Tallong                     purple\n",
       "Wondabyne                   purple\n",
       "Bell                        purple\n",
       "Hilldale                    purple\n",
       "Kembla Grange Racecourse    purple\n",
       "Lochinvar                   purple\n",
       "Lysaghts                    purple\n",
       "Mindaribba                  purple\n",
       "Penrose                     purple\n",
       "Wallarobba                  purple\n",
       "Wingello                    purple\n",
       "Wirragulla                  purple\n",
       "Zig Zag                     purple\n",
       "Name: eight_cluster_membership, dtype: object"
      ]
     },
     "execution_count": 28,
     "metadata": {},
     "output_type": "execute_result"
    }
   ],
   "source": [
    "trains2014.eight_cluster_membership"
   ]
  },
  {
   "cell_type": "code",
   "execution_count": 29,
   "metadata": {
    "collapsed": true
   },
   "outputs": [],
   "source": [
    "import sklearn.metrics"
   ]
  },
  {
   "cell_type": "code",
   "execution_count": 30,
   "metadata": {
    "collapsed": true
   },
   "outputs": [],
   "source": [
    "two_cluster_sillhouete_score = sklearn.metrics.silhouette_score(interesting_columns,\n",
    "                                                               two_clustering)"
   ]
  },
  {
   "cell_type": "code",
   "execution_count": 31,
   "metadata": {
    "collapsed": false
   },
   "outputs": [
    {
     "data": {
      "text/plain": [
       "0.9457809055255304"
      ]
     },
     "execution_count": 31,
     "metadata": {},
     "output_type": "execute_result"
    }
   ],
   "source": [
    "two_cluster_sillhouete_score"
   ]
  },
  {
   "cell_type": "code",
   "execution_count": 35,
   "metadata": {
    "collapsed": false
   },
   "outputs": [
    {
     "name": "stdout",
     "output_type": "stream",
     "text": [
      "3 0.824303583537\n",
      "4 0.665944102122\n",
      "5 0.610944074459\n",
      "6 0.622049677055\n",
      "7 0.614237341503\n",
      "8 0.631686101816\n",
      "9 0.630553211589\n",
      "10 0.589633459731\n",
      "11 0.586269285397\n",
      "12 0.631475900417\n",
      "13 0.601117329688\n",
      "14 0.590591601897\n"
     ]
    }
   ],
   "source": [
    "s = {}\n",
    "for cluster_count in range(3,15):\n",
    "    s[cluster_count] = sklearn.metrics.silhouette_score(interesting_columns,\n",
    "                                        cluster_membership[cluster_count])\n",
    "    print cluster_count, s[cluster_count]"
   ]
  },
  {
   "cell_type": "code",
   "execution_count": 37,
   "metadata": {
    "collapsed": false
   },
   "outputs": [],
   "source": [
    "s[2] = two_cluster_sillhouete_score"
   ]
  },
  {
   "cell_type": "code",
   "execution_count": 38,
   "metadata": {
    "collapsed": false
   },
   "outputs": [
    {
     "data": {
      "text/plain": [
       "<matplotlib.collections.PathCollection at 0x9d5c978>"
      ]
     },
     "execution_count": 38,
     "metadata": {},
     "output_type": "execute_result"
    },
    {
     "data": {
      "image/png": "[encoded data removed]",
      "text/plain": [
       "<matplotlib.figure.Figure at 0xbc65d68>"
      ]
     },
     "metadata": {},
     "output_type": "display_data"
    }
   ],
   "source": [
    "plt.scatter(s.keys(), s.values())\n",
    "#Accuracy of number of clustering (2,3,4, etc)\n",
    "# looks like we can get better clustering with the 8th or 9th clusters"
   ]
  },
  {
   "cell_type": "code",
   "execution_count": null,
   "metadata": {
    "collapsed": true
   },
   "outputs": [],
   "source": []
  }
 ],
 "metadata": {
  "kernelspec": {
   "display_name": "Python 2",
   "language": "python",
   "name": "python2"
  },
  "language_info": {
   "codemirror_mode": {
    "name": "ipython",
    "version": 2
   },
   "file_extension": ".py",
   "mimetype": "text/x-python",
   "name": "python",
   "nbconvert_exporter": "python",
   "pygments_lexer": "ipython2",
   "version": "2.7.11"
  }
 },
 "nbformat": 4,
 "nbformat_minor": 0
}
