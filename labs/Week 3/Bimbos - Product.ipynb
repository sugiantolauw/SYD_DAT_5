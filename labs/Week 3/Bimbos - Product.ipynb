{
 "cells": [
  {
   "cell_type": "code",
   "execution_count": 3,
   "metadata": {
    "collapsed": false
   },
   "outputs": [
    {
     "data": {
      "text/html": [
       "\n",
       "    <div class=\"bk-banner\">\n",
       "        <a href=\"http://bokeh.pydata.org\" target=\"_blank\" class=\"bk-logo bk-logo-small bk-logo-notebook\"></a>\n",
       "        <span id=\"43e44173-ba2e-4f3b-a375-1595bd13f56c\">Loading BokehJS ...</span>\n",
       "    </div>"
      ]
     },
     "metadata": {},
     "output_type": "display_data"
    },
    {
     "data": {
      "application/javascript": [
       "\n",
       "(function(global) {\n",
       "  function now() {\n",
       "    return new Date();\n",
       "  }\n",
       "\n",
       "  if (typeof (window._bokeh_onload_callbacks) === \"undefined\") {\n",
       "    window._bokeh_onload_callbacks = [];\n",
       "  }\n",
       "\n",
       "  function run_callbacks() {\n",
       "    window._bokeh_onload_callbacks.forEach(function(callback) { callback() });\n",
       "    delete window._bokeh_onload_callbacks\n",
       "    console.info(\"Bokeh: all callbacks have finished\");\n",
       "  }\n",
       "\n",
       "  function load_libs(js_urls, callback) {\n",
       "    window._bokeh_onload_callbacks.push(callback);\n",
       "    if (window._bokeh_is_loading > 0) {\n",
       "      console.log(\"Bokeh: BokehJS is being loaded, scheduling callback at\", now());\n",
       "      return null;\n",
       "    }\n",
       "    if (js_urls == null || js_urls.length === 0) {\n",
       "      run_callbacks();\n",
       "      return null;\n",
       "    }\n",
       "    console.log(\"Bokeh: BokehJS not loaded, scheduling load and callback at\", now());\n",
       "    window._bokeh_is_loading = js_urls.length;\n",
       "    for (var i = 0; i < js_urls.length; i++) {\n",
       "      var url = js_urls[i];\n",
       "      var s = document.createElement('script');\n",
       "      s.src = url;\n",
       "      s.async = false;\n",
       "      s.onreadystatechange = s.onload = function() {\n",
       "        window._bokeh_is_loading--;\n",
       "        if (window._bokeh_is_loading === 0) {\n",
       "          console.log(\"Bokeh: all BokehJS libraries loaded\");\n",
       "          run_callbacks()\n",
       "        }\n",
       "      };\n",
       "      s.onerror = function() {\n",
       "        console.warn(\"failed to load library \" + url);\n",
       "      };\n",
       "      console.log(\"Bokeh: injecting script tag for BokehJS library: \", url);\n",
       "      document.getElementsByTagName(\"head\")[0].appendChild(s);\n",
       "    }\n",
       "  };\n",
       "\n",
       "  var js_urls = ['https://cdn.pydata.org/bokeh/release/bokeh-0.11.1.min.js', 'https://cdn.pydata.org/bokeh/release/bokeh-widgets-0.11.1.min.js', 'https://cdn.pydata.org/bokeh/release/bokeh-compiler-0.11.1.min.js'];\n",
       "\n",
       "  var inline_js = [\n",
       "    function(Bokeh) {\n",
       "      Bokeh.set_log_level(\"info\");\n",
       "    },\n",
       "    \n",
       "    function(Bokeh) {\n",
       "      Bokeh.$(\"#43e44173-ba2e-4f3b-a375-1595bd13f56c\").text(\"BokehJS successfully loaded\");\n",
       "    },\n",
       "    function(Bokeh) {\n",
       "      console.log(\"Bokeh: injecting CSS: https://cdn.pydata.org/bokeh/release/bokeh-0.11.1.min.css\");\n",
       "      Bokeh.embed.inject_css(\"https://cdn.pydata.org/bokeh/release/bokeh-0.11.1.min.css\");\n",
       "      console.log(\"Bokeh: injecting CSS: https://cdn.pydata.org/bokeh/release/bokeh-widgets-0.11.1.min.css\");\n",
       "      Bokeh.embed.inject_css(\"https://cdn.pydata.org/bokeh/release/bokeh-widgets-0.11.1.min.css\");\n",
       "    }\n",
       "  ];\n",
       "\n",
       "  function run_inline_js() {\n",
       "    for (var i = 0; i < inline_js.length; i++) {\n",
       "      inline_js[i](window.Bokeh);\n",
       "    }\n",
       "  }\n",
       "\n",
       "  if (window._bokeh_is_loading === 0) {\n",
       "    console.log(\"Bokeh: BokehJS loaded, going straight to plotting\");\n",
       "    run_inline_js();\n",
       "  } else {\n",
       "    load_libs(js_urls, function() {\n",
       "      console.log(\"Bokeh: BokehJS plotting callback run at\", now());\n",
       "      run_inline_js();\n",
       "    });\n",
       "  }\n",
       "}(this));"
      ]
     },
     "metadata": {},
     "output_type": "display_data"
    }
   ],
   "source": [
    "from bokeh.plotting import figure, show, output_notebook\n",
    "from bokeh.models import HoverTool, ColumnDataSource\n",
    "import numpy as np\n",
    "import pandas as pd\n",
    "import matplotlib.pyplot as plt\n",
    "import seaborn as sns\n",
    "output_notebook()"
   ]
  },
  {
   "cell_type": "code",
   "execution_count": 4,
   "metadata": {
    "collapsed": true
   },
   "outputs": [],
   "source": [
    "def get_product_agg(cols):\n",
    "    bimbo_train = pd.read_csv('C:\\\\Users\\\\richter Belmont\\\\Desktop\\\\Data Science - Projects\\\\Grupo Bimbo - Inventory Demand\\\\train.csv',\n",
    "                              nrows=1000000, usecols=['Semana', 'Producto_ID'] + cols,\n",
    "                             dtype = {'Semana': 'int32',\n",
    "                                    'Producto_ID': 'int32',\n",
    "                                    'Venta_hoy': 'float32',\n",
    "                                    'Venta_uni_hoy': 'int32',\n",
    "                                    'Dev_uni_proxima': 'int32',\n",
    "                                    'Dev_proxima': 'float32',\n",
    "                                    'Demanda_uni_equil': 'int32'})\n",
    "    agg = bimbo_train.groupby(['Semana', 'Producto_ID'], as_index=False).agg(['count', 'sum', 'min', 'max', 'median', 'mean'])\n",
    "    agg.columns = ['_'.join(col).strip() for col in agg.columns.values]\n",
    "    del(bimbo_train)\n",
    "    return agg"
   ]
  },
  {
   "cell_type": "code",
   "execution_count": 5,
   "metadata": {
    "collapsed": false
   },
   "outputs": [],
   "source": [
    "agg1 = get_product_agg(['Demanda_uni_equil', 'Dev_uni_proxima'])"
   ]
  },
  {
   "cell_type": "code",
   "execution_count": 6,
   "metadata": {
    "collapsed": false
   },
   "outputs": [
    {
     "data": {
      "text/plain": [
       "(512, 12)"
      ]
     },
     "execution_count": 6,
     "metadata": {},
     "output_type": "execute_result"
    }
   ],
   "source": [
    "agg1.shape"
   ]
  },
  {
   "cell_type": "code",
   "execution_count": 7,
   "metadata": {
    "collapsed": false
   },
   "outputs": [
    {
     "data": {
      "text/html": [
       "<div>\n",
       "<table border=\"1\" class=\"dataframe\">\n",
       "  <thead>\n",
       "    <tr style=\"text-align: right;\">\n",
       "      <th></th>\n",
       "      <th></th>\n",
       "      <th>Dev_uni_proxima_count</th>\n",
       "      <th>Dev_uni_proxima_sum</th>\n",
       "      <th>Dev_uni_proxima_min</th>\n",
       "      <th>Dev_uni_proxima_max</th>\n",
       "      <th>Dev_uni_proxima_median</th>\n",
       "      <th>Dev_uni_proxima_mean</th>\n",
       "      <th>Demanda_uni_equil_count</th>\n",
       "      <th>Demanda_uni_equil_sum</th>\n",
       "      <th>Demanda_uni_equil_min</th>\n",
       "      <th>Demanda_uni_equil_max</th>\n",
       "      <th>Demanda_uni_equil_median</th>\n",
       "      <th>Demanda_uni_equil_mean</th>\n",
       "    </tr>\n",
       "    <tr>\n",
       "      <th>Semana</th>\n",
       "      <th>Producto_ID</th>\n",
       "      <th></th>\n",
       "      <th></th>\n",
       "      <th></th>\n",
       "      <th></th>\n",
       "      <th></th>\n",
       "      <th></th>\n",
       "      <th></th>\n",
       "      <th></th>\n",
       "      <th></th>\n",
       "      <th></th>\n",
       "      <th></th>\n",
       "      <th></th>\n",
       "    </tr>\n",
       "  </thead>\n",
       "  <tbody>\n",
       "    <tr>\n",
       "      <th rowspan=\"5\" valign=\"top\">3</th>\n",
       "      <th>72</th>\n",
       "      <td>2935</td>\n",
       "      <td>397</td>\n",
       "      <td>0</td>\n",
       "      <td>33</td>\n",
       "      <td>0.0</td>\n",
       "      <td>0.135264</td>\n",
       "      <td>2935</td>\n",
       "      <td>14707</td>\n",
       "      <td>0</td>\n",
       "      <td>46</td>\n",
       "      <td>4.0</td>\n",
       "      <td>5.010903</td>\n",
       "    </tr>\n",
       "    <tr>\n",
       "      <th>73</th>\n",
       "      <td>6369</td>\n",
       "      <td>440</td>\n",
       "      <td>0</td>\n",
       "      <td>4</td>\n",
       "      <td>0.0</td>\n",
       "      <td>0.069085</td>\n",
       "      <td>6369</td>\n",
       "      <td>13081</td>\n",
       "      <td>0</td>\n",
       "      <td>39</td>\n",
       "      <td>2.0</td>\n",
       "      <td>2.053855</td>\n",
       "    </tr>\n",
       "    <tr>\n",
       "      <th>108</th>\n",
       "      <td>6</td>\n",
       "      <td>0</td>\n",
       "      <td>0</td>\n",
       "      <td>0</td>\n",
       "      <td>0.0</td>\n",
       "      <td>0.000000</td>\n",
       "      <td>6</td>\n",
       "      <td>656</td>\n",
       "      <td>16</td>\n",
       "      <td>280</td>\n",
       "      <td>32.0</td>\n",
       "      <td>109.333333</td>\n",
       "    </tr>\n",
       "    <tr>\n",
       "      <th>141</th>\n",
       "      <td>353</td>\n",
       "      <td>67</td>\n",
       "      <td>0</td>\n",
       "      <td>4</td>\n",
       "      <td>0.0</td>\n",
       "      <td>0.189802</td>\n",
       "      <td>353</td>\n",
       "      <td>1860</td>\n",
       "      <td>0</td>\n",
       "      <td>77</td>\n",
       "      <td>2.0</td>\n",
       "      <td>5.269122</td>\n",
       "    </tr>\n",
       "    <tr>\n",
       "      <th>145</th>\n",
       "      <td>66</td>\n",
       "      <td>2</td>\n",
       "      <td>0</td>\n",
       "      <td>1</td>\n",
       "      <td>0.0</td>\n",
       "      <td>0.030303</td>\n",
       "      <td>66</td>\n",
       "      <td>966</td>\n",
       "      <td>0</td>\n",
       "      <td>115</td>\n",
       "      <td>3.0</td>\n",
       "      <td>14.636364</td>\n",
       "    </tr>\n",
       "  </tbody>\n",
       "</table>\n",
       "</div>"
      ],
      "text/plain": [
       "                    Dev_uni_proxima_count  Dev_uni_proxima_sum  \\\n",
       "Semana Producto_ID                                               \n",
       "3      72                            2935                  397   \n",
       "       73                            6369                  440   \n",
       "       108                              6                    0   \n",
       "       141                            353                   67   \n",
       "       145                             66                    2   \n",
       "\n",
       "                    Dev_uni_proxima_min  Dev_uni_proxima_max  \\\n",
       "Semana Producto_ID                                             \n",
       "3      72                             0                   33   \n",
       "       73                             0                    4   \n",
       "       108                            0                    0   \n",
       "       141                            0                    4   \n",
       "       145                            0                    1   \n",
       "\n",
       "                    Dev_uni_proxima_median  Dev_uni_proxima_mean  \\\n",
       "Semana Producto_ID                                                 \n",
       "3      72                              0.0              0.135264   \n",
       "       73                              0.0              0.069085   \n",
       "       108                             0.0              0.000000   \n",
       "       141                             0.0              0.189802   \n",
       "       145                             0.0              0.030303   \n",
       "\n",
       "                    Demanda_uni_equil_count  Demanda_uni_equil_sum  \\\n",
       "Semana Producto_ID                                                   \n",
       "3      72                              2935                  14707   \n",
       "       73                              6369                  13081   \n",
       "       108                                6                    656   \n",
       "       141                              353                   1860   \n",
       "       145                               66                    966   \n",
       "\n",
       "                    Demanda_uni_equil_min  Demanda_uni_equil_max  \\\n",
       "Semana Producto_ID                                                 \n",
       "3      72                               0                     46   \n",
       "       73                               0                     39   \n",
       "       108                             16                    280   \n",
       "       141                              0                     77   \n",
       "       145                              0                    115   \n",
       "\n",
       "                    Demanda_uni_equil_median  Demanda_uni_equil_mean  \n",
       "Semana Producto_ID                                                    \n",
       "3      72                                4.0                5.010903  \n",
       "       73                                2.0                2.053855  \n",
       "       108                              32.0              109.333333  \n",
       "       141                               2.0                5.269122  \n",
       "       145                               3.0               14.636364  "
      ]
     },
     "execution_count": 7,
     "metadata": {},
     "output_type": "execute_result"
    }
   ],
   "source": [
    "agg1.head()"
   ]
  },
  {
   "cell_type": "code",
   "execution_count": 8,
   "metadata": {
    "collapsed": true
   },
   "outputs": [],
   "source": [
    "agg2 = get_product_agg(['Venta_uni_hoy'])\n",
    "agg = agg1.join(agg2)"
   ]
  },
  {
   "cell_type": "code",
   "execution_count": 9,
   "metadata": {
    "collapsed": false
   },
   "outputs": [],
   "source": [
    "products = pd.read_csv('C:\\\\Users\\\\richter Belmont\\\\Desktop\\\\Data Science - Projects\\\\Grupo Bimbo - Inventory Demand\\\\producto_tabla.csv')"
   ]
  },
  {
   "cell_type": "code",
   "execution_count": 10,
   "metadata": {
    "collapsed": true
   },
   "outputs": [],
   "source": [
    "products['short_name'] = products.NombreProducto.str.extract('^(\\D*)', expand=False)"
   ]
  },
  {
   "cell_type": "code",
   "execution_count": 11,
   "metadata": {
    "collapsed": true
   },
   "outputs": [],
   "source": [
    "products['brand'] = products.NombreProducto.str.extract('^.+\\s(\\D+) \\d+$', expand=False)"
   ]
  },
  {
   "cell_type": "code",
   "execution_count": 12,
   "metadata": {
    "collapsed": true
   },
   "outputs": [],
   "source": [
    "w = products.NombreProducto.str.extract('(\\d+)(Kg|g)', expand=True)"
   ]
  },
  {
   "cell_type": "code",
   "execution_count": 13,
   "metadata": {
    "collapsed": true
   },
   "outputs": [],
   "source": [
    "products['weight'] = w[0].astype('float')*w[1].map({\"Kg\":1000, 'g':1})"
   ]
  },
  {
   "cell_type": "code",
   "execution_count": 14,
   "metadata": {
    "collapsed": true
   },
   "outputs": [],
   "source": [
    "products['pieces'] = products.NombreProducto.str.extract('(\\d+)p', expand=False).astype('float')"
   ]
  },
  {
   "cell_type": "code",
   "execution_count": 15,
   "metadata": {
    "collapsed": false
   },
   "outputs": [
    {
     "data": {
      "text/html": [
       "<div>\n",
       "<table border=\"1\" class=\"dataframe\">\n",
       "  <thead>\n",
       "    <tr style=\"text-align: right;\">\n",
       "      <th></th>\n",
       "      <th>Producto_ID</th>\n",
       "      <th>NombreProducto</th>\n",
       "      <th>short_name</th>\n",
       "      <th>brand</th>\n",
       "      <th>weight</th>\n",
       "      <th>pieces</th>\n",
       "    </tr>\n",
       "  </thead>\n",
       "  <tbody>\n",
       "    <tr>\n",
       "      <th>0</th>\n",
       "      <td>0</td>\n",
       "      <td>NO IDENTIFICADO 0</td>\n",
       "      <td>NO IDENTIFICADO</td>\n",
       "      <td>IDENTIFICADO</td>\n",
       "      <td>NaN</td>\n",
       "      <td>NaN</td>\n",
       "    </tr>\n",
       "    <tr>\n",
       "      <th>1</th>\n",
       "      <td>9</td>\n",
       "      <td>Capuccino Moka 750g NES 9</td>\n",
       "      <td>Capuccino Moka</td>\n",
       "      <td>NES</td>\n",
       "      <td>750.0</td>\n",
       "      <td>NaN</td>\n",
       "    </tr>\n",
       "    <tr>\n",
       "      <th>2</th>\n",
       "      <td>41</td>\n",
       "      <td>Bimbollos Ext sAjonjoli 6p 480g BIM 41</td>\n",
       "      <td>Bimbollos Ext sAjonjoli</td>\n",
       "      <td>BIM</td>\n",
       "      <td>480.0</td>\n",
       "      <td>6.0</td>\n",
       "    </tr>\n",
       "    <tr>\n",
       "      <th>3</th>\n",
       "      <td>53</td>\n",
       "      <td>Burritos Sincro 170g CU LON 53</td>\n",
       "      <td>Burritos Sincro</td>\n",
       "      <td>LON</td>\n",
       "      <td>170.0</td>\n",
       "      <td>NaN</td>\n",
       "    </tr>\n",
       "    <tr>\n",
       "      <th>4</th>\n",
       "      <td>72</td>\n",
       "      <td>Div Tira Mini Doradita 4p 45g TR 72</td>\n",
       "      <td>Div Tira Mini Doradita</td>\n",
       "      <td>TR</td>\n",
       "      <td>45.0</td>\n",
       "      <td>4.0</td>\n",
       "    </tr>\n",
       "  </tbody>\n",
       "</table>\n",
       "</div>"
      ],
      "text/plain": [
       "   Producto_ID                          NombreProducto  \\\n",
       "0            0                       NO IDENTIFICADO 0   \n",
       "1            9               Capuccino Moka 750g NES 9   \n",
       "2           41  Bimbollos Ext sAjonjoli 6p 480g BIM 41   \n",
       "3           53          Burritos Sincro 170g CU LON 53   \n",
       "4           72     Div Tira Mini Doradita 4p 45g TR 72   \n",
       "\n",
       "                 short_name         brand  weight  pieces  \n",
       "0          NO IDENTIFICADO   IDENTIFICADO     NaN     NaN  \n",
       "1           Capuccino Moka            NES   750.0     NaN  \n",
       "2  Bimbollos Ext sAjonjoli            BIM   480.0     6.0  \n",
       "3          Burritos Sincro            LON   170.0     NaN  \n",
       "4   Div Tira Mini Doradita             TR    45.0     4.0  "
      ]
     },
     "execution_count": 15,
     "metadata": {},
     "output_type": "execute_result"
    }
   ],
   "source": [
    "products.head()"
   ]
  },
  {
   "cell_type": "code",
   "execution_count": 16,
   "metadata": {
    "collapsed": false
   },
   "outputs": [
    {
     "data": {
      "text/html": [
       "<div>\n",
       "<table border=\"1\" class=\"dataframe\">\n",
       "  <thead>\n",
       "    <tr style=\"text-align: right;\">\n",
       "      <th></th>\n",
       "      <th>Producto_ID</th>\n",
       "      <th>NombreProducto</th>\n",
       "      <th>short_name</th>\n",
       "      <th>brand</th>\n",
       "      <th>weight</th>\n",
       "      <th>pieces</th>\n",
       "    </tr>\n",
       "  </thead>\n",
       "  <tbody>\n",
       "    <tr>\n",
       "      <th>2587</th>\n",
       "      <td>49992</td>\n",
       "      <td>Tostado Integral 180g MTA WON 49992</td>\n",
       "      <td>Tostado Integral</td>\n",
       "      <td>WON</td>\n",
       "      <td>180.0</td>\n",
       "      <td>NaN</td>\n",
       "    </tr>\n",
       "    <tr>\n",
       "      <th>2588</th>\n",
       "      <td>49993</td>\n",
       "      <td>Tostado Integral 180g TAB WON 49993</td>\n",
       "      <td>Tostado Integral</td>\n",
       "      <td>WON</td>\n",
       "      <td>180.0</td>\n",
       "      <td>NaN</td>\n",
       "    </tr>\n",
       "    <tr>\n",
       "      <th>2589</th>\n",
       "      <td>49994</td>\n",
       "      <td>Tostado Int 0pct Grasa Azuc 200g WON 49994</td>\n",
       "      <td>Tostado Int</td>\n",
       "      <td>WON</td>\n",
       "      <td>200.0</td>\n",
       "      <td>0.0</td>\n",
       "    </tr>\n",
       "    <tr>\n",
       "      <th>2590</th>\n",
       "      <td>49996</td>\n",
       "      <td>Tostado Int 0pct Grasa Azuc 200g MTA WON 49996</td>\n",
       "      <td>Tostado Int</td>\n",
       "      <td>WON</td>\n",
       "      <td>200.0</td>\n",
       "      <td>0.0</td>\n",
       "    </tr>\n",
       "    <tr>\n",
       "      <th>2591</th>\n",
       "      <td>49997</td>\n",
       "      <td>Tostado Int 0pct Grasa Azuc 200g TAB WON 49997</td>\n",
       "      <td>Tostado Int</td>\n",
       "      <td>WON</td>\n",
       "      <td>200.0</td>\n",
       "      <td>0.0</td>\n",
       "    </tr>\n",
       "  </tbody>\n",
       "</table>\n",
       "</div>"
      ],
      "text/plain": [
       "      Producto_ID                                  NombreProducto  \\\n",
       "2587        49992             Tostado Integral 180g MTA WON 49992   \n",
       "2588        49993             Tostado Integral 180g TAB WON 49993   \n",
       "2589        49994      Tostado Int 0pct Grasa Azuc 200g WON 49994   \n",
       "2590        49996  Tostado Int 0pct Grasa Azuc 200g MTA WON 49996   \n",
       "2591        49997  Tostado Int 0pct Grasa Azuc 200g TAB WON 49997   \n",
       "\n",
       "             short_name brand  weight  pieces  \n",
       "2587  Tostado Integral    WON   180.0     NaN  \n",
       "2588  Tostado Integral    WON   180.0     NaN  \n",
       "2589       Tostado Int    WON   200.0     0.0  \n",
       "2590       Tostado Int    WON   200.0     0.0  \n",
       "2591       Tostado Int    WON   200.0     0.0  "
      ]
     },
     "execution_count": 16,
     "metadata": {},
     "output_type": "execute_result"
    }
   ],
   "source": [
    "products.tail()"
   ]
  },
  {
   "cell_type": "code",
   "execution_count": 17,
   "metadata": {
    "collapsed": false
   },
   "outputs": [
    {
     "data": {
      "text/plain": [
       "Pan Blanco                       39\n",
       "Tortillinas                      37\n",
       "Deliciosas Vainilla              35\n",
       "Medias Noches                    25\n",
       "Wonder                           22\n",
       "Pan Integral                     19\n",
       "Deliciosas Chochitos             17\n",
       "Canelitas                        17\n",
       "Suavicremas Chocolate            17\n",
       "Suavicremas Vainilla             17\n",
       "Choco Roles                      16\n",
       "Suavicremas Fresa                16\n",
       "Mantecadas Nuez                  15\n",
       "Chocochispas                     15\n",
       "Tostada Ondulada Tubo            15\n",
       "Canapinas                        15\n",
       "Tostado                          14\n",
       "Barritas Fresa                   14\n",
       "Barritas Pina                    13\n",
       "Bran Frut Fresa                  12\n",
       "Triki Trakes                     12\n",
       "Deliciosas Chocochispas          12\n",
       "Barra Multigrano Nuez            12\n",
       "Mantecadas                       12\n",
       "Totopo Chilaquiles               12\n",
       "Plativolos                       12\n",
       "Galleta Gansito                  12\n",
       "Bollos BK                        12\n",
       "Bimbollos                        11\n",
       "Barra Multigrano Linaza          11\n",
       "                                 ..\n",
       "Pallet Canelitas Media KC         1\n",
       "Dulcigomas                        1\n",
       "Barrita Pina Congelada            1\n",
       "Classicas Chocol                  1\n",
       "Chips Jalapeno                    1\n",
       "Canelita ETN                      1\n",
       "Canelitas MG                      1\n",
       "Tortilla Harina FSL               1\n",
       "Bisquet Muestreo                  1\n",
       "Rosquilla Nuez sin Glass          1\n",
       "Polvoron Individual               1\n",
       "Sand Clasico Dob Fibra Cong       1\n",
       "Lonchito Clasico Juzgados         1\n",
       "Bombonete SC                      1\n",
       "Mini Galleta ABC sab Canela       1\n",
       "Mini Milk Besos Nuez              1\n",
       "Cajilla Galletas                  1\n",
       "Lonchera Plastica Baul            1\n",
       "Bran Frut Mix Fresa Pina          1\n",
       "Lonchibox Prem Bco sn Chile       1\n",
       "Bigotes Cajeta                    1\n",
       "Pan Tostado Tradicional Indi      1\n",
       "Totopo Redondo                    1\n",
       "Mi Gansito Doble Choc             1\n",
       "Surtido Fina Variedad             1\n",
       "Barra Silueta Fresa               1\n",
       "Galleta Arandaleta Muestreo       1\n",
       "Burrito Vaporero Mole             1\n",
       "Chocochispas MG                   1\n",
       "Surtido Orejitas                  1\n",
       "Name: short_name, dtype: int64"
      ]
     },
     "execution_count": 17,
     "metadata": {},
     "output_type": "execute_result"
    }
   ],
   "source": [
    "products.short_name.value_counts(dropna=False)"
   ]
  },
  {
   "cell_type": "code",
   "execution_count": 18,
   "metadata": {
    "collapsed": true
   },
   "outputs": [],
   "source": [
    "%matplotlib inline"
   ]
  },
  {
   "cell_type": "code",
   "execution_count": 19,
   "metadata": {
    "collapsed": false
   },
   "outputs": [
    {
     "data": {
      "text/plain": [
       "<matplotlib.axes._subplots.AxesSubplot at 0xc5161d0>"
      ]
     },
     "execution_count": 19,
     "metadata": {},
     "output_type": "execute_result"
    },
    {
     "data": {
      "image/png": "[encoded data removed]",
      "text/plain": [
       "<matplotlib.figure.Figure at 0xc4f8c50>"
      ]
     },
     "metadata": {},
     "output_type": "display_data"
    }
   ],
   "source": [
    "sns.distplot(products.weight.dropna())"
   ]
  },
  {
   "cell_type": "code",
   "execution_count": 20,
   "metadata": {
    "collapsed": false
   },
   "outputs": [
    {
     "data": {
      "text/plain": [
       "<matplotlib.axes._subplots.AxesSubplot at 0xc3a56a0>"
      ]
     },
     "execution_count": 20,
     "metadata": {},
     "output_type": "execute_result"
    },
    {
     "data": {
      "image/png": "[encoded data removed]",
      "text/plain": [
       "<matplotlib.figure.Figure at 0xc7c8a20>"
      ]
     },
     "metadata": {},
     "output_type": "display_data"
    }
   ],
   "source": [
    "sns.distplot(products.pieces.dropna())"
   ]
  },
  {
   "cell_type": "code",
   "execution_count": 21,
   "metadata": {
    "collapsed": false
   },
   "outputs": [],
   "source": [
    "bimbo = (pd.merge(agg1.reset_index(), products, on='Producto_ID', how='left').\n",
    "        groupby('short_name')['Demanda_uni_equil_sum'].sum().sort_values(ascending=False))"
   ]
  },
  {
   "cell_type": "code",
   "execution_count": 22,
   "metadata": {
    "collapsed": false
   },
   "outputs": [
    {
     "data": {
      "text/plain": [
       "<matplotlib.text.Text at 0xc5d5be0>"
      ]
     },
     "execution_count": 22,
     "metadata": {},
     "output_type": "execute_result"
    },
    {
     "data": {
      "image/png": "[encoded data removed]",
      "text/plain": [
       "<matplotlib.figure.Figure at 0xcb18438>"
      ]
     },
     "metadata": {},
     "output_type": "display_data"
    }
   ],
   "source": [
    "plt.figure(figsize = (12,15))\n",
    "bimbo.head(50).sort_values().plot(kind='barh')\n",
    "plt.ylabel('Product Name')\n",
    "plt.xlabel('Sum of Demand')"
   ]
  },
  {
   "cell_type": "code",
   "execution_count": 23,
   "metadata": {
    "collapsed": false
   },
   "outputs": [
    {
     "data": {
      "text/plain": [
       "<matplotlib.axes._subplots.AxesSubplot at 0x10609b38>"
      ]
     },
     "execution_count": 23,
     "metadata": {},
     "output_type": "execute_result"
    },
    {
     "data": {
      "image/png": "[encoded data removed]",
      "text/plain": [
       "<matplotlib.figure.Figure at 0xc679c18>"
      ]
     },
     "metadata": {},
     "output_type": "display_data"
    }
   ],
   "source": [
    "sns.distplot(bimbo)"
   ]
  },
  {
   "cell_type": "code",
   "execution_count": 24,
   "metadata": {
    "collapsed": false
   },
   "outputs": [
    {
     "data": {
      "text/plain": [
       "<matplotlib.axes._subplots.AxesSubplot at 0xc679588>"
      ]
     },
     "execution_count": 24,
     "metadata": {},
     "output_type": "execute_result"
    },
    {
     "data": {
      "image/png": "[encoded data removed]",
      "text/plain": [
       "<matplotlib.figure.Figure at 0x10b7ca58>"
      ]
     },
     "metadata": {},
     "output_type": "display_data"
    }
   ],
   "source": [
    "sns.distplot(np.log1p(bimbo))"
   ]
  },
  {
   "cell_type": "code",
   "execution_count": 25,
   "metadata": {
    "collapsed": false
   },
   "outputs": [],
   "source": [
    "bimbo1 = (pd.merge(agg.reset_index(), products, on='Producto_ID', how='left').\n",
    "          groupby('short_name')['Demanda_uni_equil_sum', 'Venta_uni_hoy_sum', 'Dev_uni_proxima_sum', 'Dev_uni_proxima_count']\n",
    "          .sum().sort_values(by = 'Demanda_uni_equil_sum', ascending=False))"
   ]
  },
  {
   "cell_type": "code",
   "execution_count": 26,
   "metadata": {
    "collapsed": false
   },
   "outputs": [
    {
     "data": {
      "text/html": [
       "<div>\n",
       "<table border=\"1\" class=\"dataframe\">\n",
       "  <thead>\n",
       "    <tr style=\"text-align: right;\">\n",
       "      <th></th>\n",
       "      <th>count</th>\n",
       "      <th>mean</th>\n",
       "      <th>std</th>\n",
       "      <th>min</th>\n",
       "      <th>25%</th>\n",
       "      <th>50%</th>\n",
       "      <th>75%</th>\n",
       "      <th>max</th>\n",
       "    </tr>\n",
       "  </thead>\n",
       "  <tbody>\n",
       "    <tr>\n",
       "      <th>Demanda_uni_equil_sum</th>\n",
       "      <td>303.0</td>\n",
       "      <td>21718.445545</td>\n",
       "      <td>58594.666081</td>\n",
       "      <td>0.0</td>\n",
       "      <td>242.0</td>\n",
       "      <td>2618.0</td>\n",
       "      <td>11494.5</td>\n",
       "      <td>453037.0</td>\n",
       "    </tr>\n",
       "    <tr>\n",
       "      <th>Venta_uni_hoy_sum</th>\n",
       "      <td>303.0</td>\n",
       "      <td>21936.310231</td>\n",
       "      <td>59003.845034</td>\n",
       "      <td>0.0</td>\n",
       "      <td>242.0</td>\n",
       "      <td>2618.0</td>\n",
       "      <td>11729.5</td>\n",
       "      <td>455123.0</td>\n",
       "    </tr>\n",
       "    <tr>\n",
       "      <th>Dev_uni_proxima_sum</th>\n",
       "      <td>303.0</td>\n",
       "      <td>295.181518</td>\n",
       "      <td>617.623117</td>\n",
       "      <td>0.0</td>\n",
       "      <td>4.0</td>\n",
       "      <td>55.0</td>\n",
       "      <td>251.5</td>\n",
       "      <td>5006.0</td>\n",
       "    </tr>\n",
       "    <tr>\n",
       "      <th>Dev_uni_proxima_count</th>\n",
       "      <td>303.0</td>\n",
       "      <td>3300.330033</td>\n",
       "      <td>7650.942772</td>\n",
       "      <td>1.0</td>\n",
       "      <td>17.0</td>\n",
       "      <td>148.0</td>\n",
       "      <td>2676.0</td>\n",
       "      <td>46870.0</td>\n",
       "    </tr>\n",
       "  </tbody>\n",
       "</table>\n",
       "</div>"
      ],
      "text/plain": [
       "                       count          mean           std  min    25%     50%  \\\n",
       "Demanda_uni_equil_sum  303.0  21718.445545  58594.666081  0.0  242.0  2618.0   \n",
       "Venta_uni_hoy_sum      303.0  21936.310231  59003.845034  0.0  242.0  2618.0   \n",
       "Dev_uni_proxima_sum    303.0    295.181518    617.623117  0.0    4.0    55.0   \n",
       "Dev_uni_proxima_count  303.0   3300.330033   7650.942772  1.0   17.0   148.0   \n",
       "\n",
       "                           75%       max  \n",
       "Demanda_uni_equil_sum  11494.5  453037.0  \n",
       "Venta_uni_hoy_sum      11729.5  455123.0  \n",
       "Dev_uni_proxima_sum      251.5    5006.0  \n",
       "Dev_uni_proxima_count   2676.0   46870.0  "
      ]
     },
     "execution_count": 26,
     "metadata": {},
     "output_type": "execute_result"
    }
   ],
   "source": [
    "bimbo1.describe().T #There are "
   ]
  },
  {
   "cell_type": "code",
   "execution_count": 27,
   "metadata": {
    "collapsed": false
   },
   "outputs": [
    {
     "data": {
      "text/plain": [
       "Demanda_uni_equil_sum    10\n",
       "Venta_uni_hoy_sum        10\n",
       "Dev_uni_proxima_sum      10\n",
       "Dev_uni_proxima_count    10\n",
       "dtype: int64"
      ]
     },
     "execution_count": 27,
     "metadata": {},
     "output_type": "execute_result"
    }
   ],
   "source": [
    "bimbo1[bimbo1.Demanda_uni_equil_sum == 0].count()"
   ]
  },
  {
   "cell_type": "code",
   "execution_count": 28,
   "metadata": {
    "collapsed": false
   },
   "outputs": [
    {
     "data": {
      "text/html": [
       "<div>\n",
       "<table border=\"1\" class=\"dataframe\">\n",
       "  <thead>\n",
       "    <tr style=\"text-align: right;\">\n",
       "      <th></th>\n",
       "      <th>Demanda_uni_equil_sum</th>\n",
       "      <th>Venta_uni_hoy_sum</th>\n",
       "      <th>Dev_uni_proxima_sum</th>\n",
       "      <th>Dev_uni_proxima_count</th>\n",
       "    </tr>\n",
       "    <tr>\n",
       "      <th>short_name</th>\n",
       "      <th></th>\n",
       "      <th></th>\n",
       "      <th></th>\n",
       "      <th></th>\n",
       "    </tr>\n",
       "  </thead>\n",
       "  <tbody>\n",
       "    <tr>\n",
       "      <th>Deliciosas Chocolate</th>\n",
       "      <td>0</td>\n",
       "      <td>0</td>\n",
       "      <td>4</td>\n",
       "      <td>2</td>\n",
       "    </tr>\n",
       "    <tr>\n",
       "      <th>Principe mas Navigalleta</th>\n",
       "      <td>0</td>\n",
       "      <td>0</td>\n",
       "      <td>9</td>\n",
       "      <td>5</td>\n",
       "    </tr>\n",
       "    <tr>\n",
       "      <th>Raztachoc</th>\n",
       "      <td>0</td>\n",
       "      <td>0</td>\n",
       "      <td>8</td>\n",
       "      <td>4</td>\n",
       "    </tr>\n",
       "    <tr>\n",
       "      <th>Galleta Confeti</th>\n",
       "      <td>0</td>\n",
       "      <td>0</td>\n",
       "      <td>3</td>\n",
       "      <td>1</td>\n",
       "    </tr>\n",
       "    <tr>\n",
       "      <th>Duo Bran Fresa Pina</th>\n",
       "      <td>0</td>\n",
       "      <td>0</td>\n",
       "      <td>5</td>\n",
       "      <td>2</td>\n",
       "    </tr>\n",
       "    <tr>\n",
       "      <th>Bolsita Surtido Rico</th>\n",
       "      <td>0</td>\n",
       "      <td>0</td>\n",
       "      <td>2</td>\n",
       "      <td>2</td>\n",
       "    </tr>\n",
       "    <tr>\n",
       "      <th>Sponch Navidad</th>\n",
       "      <td>0</td>\n",
       "      <td>0</td>\n",
       "      <td>1</td>\n",
       "      <td>1</td>\n",
       "    </tr>\n",
       "    <tr>\n",
       "      <th>Bran Frut con Avena</th>\n",
       "      <td>0</td>\n",
       "      <td>0</td>\n",
       "      <td>25</td>\n",
       "      <td>2</td>\n",
       "    </tr>\n",
       "    <tr>\n",
       "      <th>Bran Frut Mango</th>\n",
       "      <td>0</td>\n",
       "      <td>0</td>\n",
       "      <td>4</td>\n",
       "      <td>2</td>\n",
       "    </tr>\n",
       "    <tr>\n",
       "      <th>Surtido Fina Variedad</th>\n",
       "      <td>0</td>\n",
       "      <td>4</td>\n",
       "      <td>14</td>\n",
       "      <td>4</td>\n",
       "    </tr>\n",
       "  </tbody>\n",
       "</table>\n",
       "</div>"
      ],
      "text/plain": [
       "                           Demanda_uni_equil_sum  Venta_uni_hoy_sum  \\\n",
       "short_name                                                            \n",
       "Deliciosas Chocolate                           0                  0   \n",
       "Principe mas Navigalleta                       0                  0   \n",
       "Raztachoc                                      0                  0   \n",
       "Galleta Confeti                                0                  0   \n",
       "Duo Bran Fresa Pina                            0                  0   \n",
       "Bolsita Surtido Rico                           0                  0   \n",
       "Sponch Navidad                                 0                  0   \n",
       "Bran Frut con Avena                            0                  0   \n",
       "Bran Frut Mango                                0                  0   \n",
       "Surtido Fina Variedad                          0                  4   \n",
       "\n",
       "                           Dev_uni_proxima_sum  Dev_uni_proxima_count  \n",
       "short_name                                                             \n",
       "Deliciosas Chocolate                         4                      2  \n",
       "Principe mas Navigalleta                     9                      5  \n",
       "Raztachoc                                    8                      4  \n",
       "Galleta Confeti                              3                      1  \n",
       "Duo Bran Fresa Pina                          5                      2  \n",
       "Bolsita Surtido Rico                         2                      2  \n",
       "Sponch Navidad                               1                      1  \n",
       "Bran Frut con Avena                         25                      2  \n",
       "Bran Frut Mango                              4                      2  \n",
       "Surtido Fina Variedad                       14                      4  "
      ]
     },
     "execution_count": 28,
     "metadata": {},
     "output_type": "execute_result"
    }
   ],
   "source": [
    "bimbo1[bimbo1.Demanda_uni_equil_sum == 0]\n",
    "#There are products with 0 sales but have returns"
   ]
  },
  {
   "cell_type": "code",
   "execution_count": 29,
   "metadata": {
    "collapsed": false
   },
   "outputs": [
    {
     "data": {
      "text/html": [
       "<div>\n",
       "<table border=\"1\" class=\"dataframe\">\n",
       "  <thead>\n",
       "    <tr style=\"text-align: right;\">\n",
       "      <th></th>\n",
       "      <th>Demanda_uni_equil_sum</th>\n",
       "      <th>Venta_uni_hoy_sum</th>\n",
       "      <th>Dev_uni_proxima_sum</th>\n",
       "      <th>Dev_uni_proxima_count</th>\n",
       "    </tr>\n",
       "    <tr>\n",
       "      <th>short_name</th>\n",
       "      <th></th>\n",
       "      <th></th>\n",
       "      <th></th>\n",
       "      <th></th>\n",
       "    </tr>\n",
       "  </thead>\n",
       "  <tbody>\n",
       "    <tr>\n",
       "      <th>Deliciosas Chocolate</th>\n",
       "      <td>0</td>\n",
       "      <td>0</td>\n",
       "      <td>4</td>\n",
       "      <td>2</td>\n",
       "    </tr>\n",
       "    <tr>\n",
       "      <th>Principe mas Navigalleta</th>\n",
       "      <td>0</td>\n",
       "      <td>0</td>\n",
       "      <td>9</td>\n",
       "      <td>5</td>\n",
       "    </tr>\n",
       "    <tr>\n",
       "      <th>Raztachoc</th>\n",
       "      <td>0</td>\n",
       "      <td>0</td>\n",
       "      <td>8</td>\n",
       "      <td>4</td>\n",
       "    </tr>\n",
       "    <tr>\n",
       "      <th>Galleta Confeti</th>\n",
       "      <td>0</td>\n",
       "      <td>0</td>\n",
       "      <td>3</td>\n",
       "      <td>1</td>\n",
       "    </tr>\n",
       "    <tr>\n",
       "      <th>Duo Bran Fresa Pina</th>\n",
       "      <td>0</td>\n",
       "      <td>0</td>\n",
       "      <td>5</td>\n",
       "      <td>2</td>\n",
       "    </tr>\n",
       "    <tr>\n",
       "      <th>Bolsita Surtido Rico</th>\n",
       "      <td>0</td>\n",
       "      <td>0</td>\n",
       "      <td>2</td>\n",
       "      <td>2</td>\n",
       "    </tr>\n",
       "    <tr>\n",
       "      <th>Sponch Navidad</th>\n",
       "      <td>0</td>\n",
       "      <td>0</td>\n",
       "      <td>1</td>\n",
       "      <td>1</td>\n",
       "    </tr>\n",
       "    <tr>\n",
       "      <th>Bran Frut con Avena</th>\n",
       "      <td>0</td>\n",
       "      <td>0</td>\n",
       "      <td>25</td>\n",
       "      <td>2</td>\n",
       "    </tr>\n",
       "    <tr>\n",
       "      <th>Bran Frut Mango</th>\n",
       "      <td>0</td>\n",
       "      <td>0</td>\n",
       "      <td>4</td>\n",
       "      <td>2</td>\n",
       "    </tr>\n",
       "  </tbody>\n",
       "</table>\n",
       "</div>"
      ],
      "text/plain": [
       "                           Demanda_uni_equil_sum  Venta_uni_hoy_sum  \\\n",
       "short_name                                                            \n",
       "Deliciosas Chocolate                           0                  0   \n",
       "Principe mas Navigalleta                       0                  0   \n",
       "Raztachoc                                      0                  0   \n",
       "Galleta Confeti                                0                  0   \n",
       "Duo Bran Fresa Pina                            0                  0   \n",
       "Bolsita Surtido Rico                           0                  0   \n",
       "Sponch Navidad                                 0                  0   \n",
       "Bran Frut con Avena                            0                  0   \n",
       "Bran Frut Mango                                0                  0   \n",
       "\n",
       "                           Dev_uni_proxima_sum  Dev_uni_proxima_count  \n",
       "short_name                                                             \n",
       "Deliciosas Chocolate                         4                      2  \n",
       "Principe mas Navigalleta                     9                      5  \n",
       "Raztachoc                                    8                      4  \n",
       "Galleta Confeti                              3                      1  \n",
       "Duo Bran Fresa Pina                          5                      2  \n",
       "Bolsita Surtido Rico                         2                      2  \n",
       "Sponch Navidad                               1                      1  \n",
       "Bran Frut con Avena                         25                      2  \n",
       "Bran Frut Mango                              4                      2  "
      ]
     },
     "execution_count": 29,
     "metadata": {},
     "output_type": "execute_result"
    }
   ],
   "source": [
    "bimbo1[bimbo1.Venta_uni_hoy_sum == 0]\n",
    "# products never returned?"
   ]
  },
  {
   "cell_type": "code",
   "execution_count": 30,
   "metadata": {
    "collapsed": false
   },
   "outputs": [
    {
     "data": {
      "text/plain": [
       "Demanda_uni_equil_sum    47\n",
       "Venta_uni_hoy_sum        47\n",
       "Dev_uni_proxima_sum      47\n",
       "Dev_uni_proxima_count    47\n",
       "dtype: int64"
      ]
     },
     "execution_count": 30,
     "metadata": {},
     "output_type": "execute_result"
    }
   ],
   "source": [
    "bimbo1[bimbo1.Dev_uni_proxima_sum == 0].count()"
   ]
  },
  {
   "cell_type": "code",
   "execution_count": 31,
   "metadata": {
    "collapsed": false
   },
   "outputs": [
    {
     "data": {
      "text/html": [
       "<div>\n",
       "<table border=\"1\" class=\"dataframe\">\n",
       "  <thead>\n",
       "    <tr style=\"text-align: right;\">\n",
       "      <th></th>\n",
       "      <th>Demanda_uni_equil_sum</th>\n",
       "      <th>Venta_uni_hoy_sum</th>\n",
       "      <th>Dev_uni_proxima_sum</th>\n",
       "      <th>Dev_uni_proxima_count</th>\n",
       "    </tr>\n",
       "    <tr>\n",
       "      <th>short_name</th>\n",
       "      <th></th>\n",
       "      <th></th>\n",
       "      <th></th>\n",
       "      <th></th>\n",
       "    </tr>\n",
       "  </thead>\n",
       "  <tbody>\n",
       "    <tr>\n",
       "      <th>Principe KC</th>\n",
       "      <td>3732</td>\n",
       "      <td>3732</td>\n",
       "      <td>0</td>\n",
       "      <td>81</td>\n",
       "    </tr>\n",
       "    <tr>\n",
       "      <th>Bollos</th>\n",
       "      <td>2618</td>\n",
       "      <td>2618</td>\n",
       "      <td>0</td>\n",
       "      <td>265</td>\n",
       "    </tr>\n",
       "    <tr>\n",
       "      <th>Panera Donas Azucar</th>\n",
       "      <td>1405</td>\n",
       "      <td>1405</td>\n",
       "      <td>0</td>\n",
       "      <td>14</td>\n",
       "    </tr>\n",
       "    <tr>\n",
       "      <th>Decanelas</th>\n",
       "      <td>1070</td>\n",
       "      <td>1070</td>\n",
       "      <td>0</td>\n",
       "      <td>226</td>\n",
       "    </tr>\n",
       "    <tr>\n",
       "      <th>Bollos BK</th>\n",
       "      <td>1014</td>\n",
       "      <td>1014</td>\n",
       "      <td>0</td>\n",
       "      <td>26</td>\n",
       "    </tr>\n",
       "    <tr>\n",
       "      <th>English Muffins Natural</th>\n",
       "      <td>747</td>\n",
       "      <td>747</td>\n",
       "      <td>0</td>\n",
       "      <td>32</td>\n",
       "    </tr>\n",
       "    <tr>\n",
       "      <th>Baguette Precocida Cong</th>\n",
       "      <td>728</td>\n",
       "      <td>728</td>\n",
       "      <td>0</td>\n",
       "      <td>7</td>\n",
       "    </tr>\n",
       "    <tr>\n",
       "      <th>Bollos Carls Jr</th>\n",
       "      <td>709</td>\n",
       "      <td>709</td>\n",
       "      <td>0</td>\n",
       "      <td>5</td>\n",
       "    </tr>\n",
       "    <tr>\n",
       "      <th>Pan Multigrano Twin</th>\n",
       "      <td>320</td>\n",
       "      <td>320</td>\n",
       "      <td>0</td>\n",
       "      <td>3</td>\n",
       "    </tr>\n",
       "    <tr>\n",
       "      <th>Big Muffin Chocolate</th>\n",
       "      <td>300</td>\n",
       "      <td>300</td>\n",
       "      <td>0</td>\n",
       "      <td>43</td>\n",
       "    </tr>\n",
       "    <tr>\n",
       "      <th>Bollos Quarter Pounder McD</th>\n",
       "      <td>277</td>\n",
       "      <td>277</td>\n",
       "      <td>0</td>\n",
       "      <td>14</td>\n",
       "    </tr>\n",
       "    <tr>\n",
       "      <th>Tiras para Sopa</th>\n",
       "      <td>244</td>\n",
       "      <td>244</td>\n",
       "      <td>0</td>\n",
       "      <td>19</td>\n",
       "    </tr>\n",
       "    <tr>\n",
       "      <th>Cuernitos ME</th>\n",
       "      <td>240</td>\n",
       "      <td>240</td>\n",
       "      <td>0</td>\n",
       "      <td>3</td>\n",
       "    </tr>\n",
       "    <tr>\n",
       "      <th>Barra Multigrano Mix</th>\n",
       "      <td>239</td>\n",
       "      <td>239</td>\n",
       "      <td>0</td>\n",
       "      <td>14</td>\n",
       "    </tr>\n",
       "    <tr>\n",
       "      <th>Big Muffin Vainilla</th>\n",
       "      <td>228</td>\n",
       "      <td>228</td>\n",
       "      <td>0</td>\n",
       "      <td>32</td>\n",
       "    </tr>\n",
       "    <tr>\n",
       "      <th>Pan Silueta cFib Twin Pack</th>\n",
       "      <td>214</td>\n",
       "      <td>214</td>\n",
       "      <td>0</td>\n",
       "      <td>2</td>\n",
       "    </tr>\n",
       "    <tr>\n",
       "      <th>Suavicremas Chocolate Nuevo KC</th>\n",
       "      <td>206</td>\n",
       "      <td>206</td>\n",
       "      <td>0</td>\n",
       "      <td>9</td>\n",
       "    </tr>\n",
       "    <tr>\n",
       "      <th>Sponch Fresa KC</th>\n",
       "      <td>204</td>\n",
       "      <td>204</td>\n",
       "      <td>0</td>\n",
       "      <td>8</td>\n",
       "    </tr>\n",
       "    <tr>\n",
       "      <th>Bollo Big Mac</th>\n",
       "      <td>200</td>\n",
       "      <td>200</td>\n",
       "      <td>0</td>\n",
       "      <td>13</td>\n",
       "    </tr>\n",
       "    <tr>\n",
       "      <th>Cuernito Jamon y Queso</th>\n",
       "      <td>185</td>\n",
       "      <td>185</td>\n",
       "      <td>0</td>\n",
       "      <td>6</td>\n",
       "    </tr>\n",
       "  </tbody>\n",
       "</table>\n",
       "</div>"
      ],
      "text/plain": [
       "                                 Demanda_uni_equil_sum  Venta_uni_hoy_sum  \\\n",
       "short_name                                                                  \n",
       "Principe KC                                       3732               3732   \n",
       "Bollos                                            2618               2618   \n",
       "Panera Donas Azucar                               1405               1405   \n",
       "Decanelas                                         1070               1070   \n",
       "Bollos BK                                         1014               1014   \n",
       "English Muffins Natural                            747                747   \n",
       "Baguette Precocida Cong                            728                728   \n",
       "Bollos Carls Jr                                    709                709   \n",
       "Pan Multigrano Twin                                320                320   \n",
       "Big Muffin Chocolate                               300                300   \n",
       "Bollos Quarter Pounder McD                         277                277   \n",
       "Tiras para Sopa                                    244                244   \n",
       "Cuernitos ME                                       240                240   \n",
       "Barra Multigrano Mix                               239                239   \n",
       "Big Muffin Vainilla                                228                228   \n",
       "Pan Silueta cFib Twin Pack                         214                214   \n",
       "Suavicremas Chocolate Nuevo KC                     206                206   \n",
       "Sponch Fresa KC                                    204                204   \n",
       "Bollo Big Mac                                      200                200   \n",
       "Cuernito Jamon y Queso                             185                185   \n",
       "\n",
       "                                 Dev_uni_proxima_sum  Dev_uni_proxima_count  \n",
       "short_name                                                                   \n",
       "Principe KC                                        0                     81  \n",
       "Bollos                                             0                    265  \n",
       "Panera Donas Azucar                                0                     14  \n",
       "Decanelas                                          0                    226  \n",
       "Bollos BK                                          0                     26  \n",
       "English Muffins Natural                            0                     32  \n",
       "Baguette Precocida Cong                            0                      7  \n",
       "Bollos Carls Jr                                    0                      5  \n",
       "Pan Multigrano Twin                                0                      3  \n",
       "Big Muffin Chocolate                               0                     43  \n",
       "Bollos Quarter Pounder McD                         0                     14  \n",
       "Tiras para Sopa                                    0                     19  \n",
       "Cuernitos ME                                       0                      3  \n",
       "Barra Multigrano Mix                               0                     14  \n",
       "Big Muffin Vainilla                                0                     32  \n",
       "Pan Silueta cFib Twin Pack                         0                      2  \n",
       "Suavicremas Chocolate Nuevo KC                     0                      9  \n",
       "Sponch Fresa KC                                    0                      8  \n",
       "Bollo Big Mac                                      0                     13  \n",
       "Cuernito Jamon y Queso                             0                      6  "
      ]
     },
     "execution_count": 31,
     "metadata": {},
     "output_type": "execute_result"
    }
   ],
   "source": [
    "bimbo1[bimbo1.Dev_uni_proxima_sum == 0].head(20)"
   ]
  },
  {
   "cell_type": "code",
   "execution_count": 32,
   "metadata": {
    "collapsed": false
   },
   "outputs": [
    {
     "data": {
      "text/plain": [
       "(48418.6, 453037]     31\n",
       "(992.8, 2618]         31\n",
       "[0, 32.2]             31\n",
       "(18122.2, 48418.6]    30\n",
       "(8901.6, 18122.2]     30\n",
       "(4702.6, 8901.6]      30\n",
       "(2618, 4702.6]        30\n",
       "(406.2, 992.8]        30\n",
       "(177, 406.2]          30\n",
       "(32.2, 177]           30\n",
       "dtype: int64"
      ]
     },
     "execution_count": 32,
     "metadata": {},
     "output_type": "execute_result"
    }
   ],
   "source": [
    "#Using qcut to cut the data into 10 quantiles\n",
    "bimbo1['Q'] = pd.qcut(bimbo1.Demanda_uni_equil_sum, 10)\n",
    "bimbo1.Q.value_counts()"
   ]
  },
  {
   "cell_type": "code",
   "execution_count": 33,
   "metadata": {
    "collapsed": false
   },
   "outputs": [
    {
     "data": {
      "text/plain": [
       "array([], dtype=object)"
      ]
     },
     "execution_count": 33,
     "metadata": {},
     "output_type": "execute_result"
    }
   ],
   "source": [
    "bimbo1[bimbo1.Q == '[0, 49]'].index.values\n",
    "# Why is it return nothing?"
   ]
  },
  {
   "cell_type": "code",
   "execution_count": 34,
   "metadata": {
    "collapsed": false
   },
   "outputs": [
    {
     "data": {
      "text/plain": [
       "<matplotlib.axes._subplots.AxesSubplot at 0xc7762e8>"
      ]
     },
     "execution_count": 34,
     "metadata": {},
     "output_type": "execute_result"
    },
    {
     "data": {
      "image/png": "[encoded data removed]",
      "text/plain": [
       "<matplotlib.figure.Figure at 0xc4f8860>"
      ]
     },
     "metadata": {},
     "output_type": "display_data"
    }
   ],
   "source": [
    "sns.distplot(bimbo1.Dev_uni_proxima_sum)"
   ]
  },
  {
   "cell_type": "code",
   "execution_count": 35,
   "metadata": {
    "collapsed": true
   },
   "outputs": [],
   "source": [
    "from nltk.corpus import stopwords"
   ]
  },
  {
   "cell_type": "code",
   "execution_count": 36,
   "metadata": {
    "collapsed": false
   },
   "outputs": [
    {
     "name": "stdout",
     "output_type": "stream",
     "text": [
      "[u'de', u'la', u'que', u'el', u'en', u'y', u'a', u'los', u'del', u'se', u'las', u'por', u'un', u'para', u'con', u'no', u'una', u'su', u'al', u'lo', u'como', u'm\\xe1s', u'pero', u'sus', u'le', u'ya', u'o', u'este', u's\\xed', u'porque', u'esta', u'entre', u'cuando', u'muy', u'sin', u'sobre', u'tambi\\xe9n', u'me', u'hasta', u'hay', u'donde', u'quien', u'desde', u'todo', u'nos', u'durante', u'todos', u'uno', u'les', u'ni', u'contra', u'otros', u'ese', u'eso', u'ante', u'ellos', u'e', u'esto', u'm\\xed', u'antes', u'algunos', u'qu\\xe9', u'unos', u'yo', u'otro', u'otras', u'otra', u'\\xe9l', u'tanto', u'esa', u'estos', u'mucho', u'quienes', u'nada', u'muchos', u'cual', u'poco', u'ella', u'estar', u'estas', u'algunas', u'algo', u'nosotros', u'mi', u'mis', u't\\xfa', u'te', u'ti', u'tu', u'tus', u'ellas', u'nosotras', u'vosostros', u'vosostras', u'os', u'm\\xedo', u'm\\xeda', u'm\\xedos', u'm\\xedas', u'tuyo', u'tuya', u'tuyos', u'tuyas', u'suyo', u'suya', u'suyos', u'suyas', u'nuestro', u'nuestra', u'nuestros', u'nuestras', u'vuestro', u'vuestra', u'vuestros', u'vuestras', u'esos', u'esas', u'estoy', u'est\\xe1s', u'est\\xe1', u'estamos', u'est\\xe1is', u'est\\xe1n', u'est\\xe9', u'est\\xe9s', u'estemos', u'est\\xe9is', u'est\\xe9n', u'estar\\xe9', u'estar\\xe1s', u'estar\\xe1', u'estaremos', u'estar\\xe9is', u'estar\\xe1n', u'estar\\xeda', u'estar\\xedas', u'estar\\xedamos', u'estar\\xedais', u'estar\\xedan', u'estaba', u'estabas', u'est\\xe1bamos', u'estabais', u'estaban', u'estuve', u'estuviste', u'estuvo', u'estuvimos', u'estuvisteis', u'estuvieron', u'estuviera', u'estuvieras', u'estuvi\\xe9ramos', u'estuvierais', u'estuvieran', u'estuviese', u'estuvieses', u'estuvi\\xe9semos', u'estuvieseis', u'estuviesen', u'estando', u'estado', u'estada', u'estados', u'estadas', u'estad', u'he', u'has', u'ha', u'hemos', u'hab\\xe9is', u'han', u'haya', u'hayas', u'hayamos', u'hay\\xe1is', u'hayan', u'habr\\xe9', u'habr\\xe1s', u'habr\\xe1', u'habremos', u'habr\\xe9is', u'habr\\xe1n', u'habr\\xeda', u'habr\\xedas', u'habr\\xedamos', u'habr\\xedais', u'habr\\xedan', u'hab\\xeda', u'hab\\xedas', u'hab\\xedamos', u'hab\\xedais', u'hab\\xedan', u'hube', u'hubiste', u'hubo', u'hubimos', u'hubisteis', u'hubieron', u'hubiera', u'hubieras', u'hubi\\xe9ramos', u'hubierais', u'hubieran', u'hubiese', u'hubieses', u'hubi\\xe9semos', u'hubieseis', u'hubiesen', u'habiendo', u'habido', u'habida', u'habidos', u'habidas', u'soy', u'eres', u'es', u'somos', u'sois', u'son', u'sea', u'seas', u'seamos', u'se\\xe1is', u'sean', u'ser\\xe9', u'ser\\xe1s', u'ser\\xe1', u'seremos', u'ser\\xe9is', u'ser\\xe1n', u'ser\\xeda', u'ser\\xedas', u'ser\\xedamos', u'ser\\xedais', u'ser\\xedan', u'era', u'eras', u'\\xe9ramos', u'erais', u'eran', u'fui', u'fuiste', u'fue', u'fuimos', u'fuisteis', u'fueron', u'fuera', u'fueras', u'fu\\xe9ramos', u'fuerais', u'fueran', u'fuese', u'fueses', u'fu\\xe9semos', u'fueseis', u'fuesen', u'sintiendo', u'sentido', u'sentida', u'sentidos', u'sentidas', u'siente', u'sentid', u'tengo', u'tienes', u'tiene', u'tenemos', u'ten\\xe9is', u'tienen', u'tenga', u'tengas', u'tengamos', u'teng\\xe1is', u'tengan', u'tendr\\xe9', u'tendr\\xe1s', u'tendr\\xe1', u'tendremos', u'tendr\\xe9is', u'tendr\\xe1n', u'tendr\\xeda', u'tendr\\xedas', u'tendr\\xedamos', u'tendr\\xedais', u'tendr\\xedan', u'ten\\xeda', u'ten\\xedas', u'ten\\xedamos', u'ten\\xedais', u'ten\\xedan', u'tuve', u'tuviste', u'tuvo', u'tuvimos', u'tuvisteis', u'tuvieron', u'tuviera', u'tuvieras', u'tuvi\\xe9ramos', u'tuvierais', u'tuvieran', u'tuviese', u'tuvieses', u'tuvi\\xe9semos', u'tuvieseis', u'tuviesen', u'teniendo', u'tenido', u'tenida', u'tenidos', u'tenidas', u'tened']\n"
     ]
    }
   ],
   "source": [
    "print(stopwords.words('spanish'))"
   ]
  },
  {
   "cell_type": "code",
   "execution_count": 37,
   "metadata": {
    "collapsed": false
   },
   "outputs": [
    {
     "ename": "SyntaxError",
     "evalue": "invalid syntax (<ipython-input-37-59fc86cff573>, line 2)",
     "output_type": "error",
     "traceback": [
      "\u001b[1;36m  File \u001b[1;32m\"<ipython-input-37-59fc86cff573>\"\u001b[1;36m, line \u001b[1;32m2\u001b[0m\n\u001b[1;33m    .map(lambda x: \" \".join([for in in x.lower()\u001b[0m\n\u001b[1;37m                               ^\u001b[0m\n\u001b[1;31mSyntaxError\u001b[0m\u001b[1;31m:\u001b[0m invalid syntax\n"
     ]
    }
   ],
   "source": [
    "products['short_name_processed'] = (products['short_name']\n",
    "                                       .map(lambda x: \" \".join([for in in x.lower()\n",
    "                                                               .split() if i not in stopwords.words('spanish')])))"
   ]
  },
  {
   "cell_type": "code",
   "execution_count": null,
   "metadata": {
    "collapsed": true
   },
   "outputs": [],
   "source": []
  }
 ],
 "metadata": {
  "kernelspec": {
   "display_name": "Python 2",
   "language": "python",
   "name": "python2"
  },
  "language_info": {
   "codemirror_mode": {
    "name": "ipython",
    "version": 2
   },
   "file_extension": ".py",
   "mimetype": "text/x-python",
   "name": "python",
   "nbconvert_exporter": "python",
   "pygments_lexer": "ipython2",
   "version": "2.7.11"
  }
 },
 "nbformat": 4,
 "nbformat_minor": 0
}
